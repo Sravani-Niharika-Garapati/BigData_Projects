{
  "nbformat": 4,
  "nbformat_minor": 0,
  "metadata": {
    "colab": {
      "name": "ICP6_BDA.ipynb",
      "provenance": [],
      "collapsed_sections": []
    },
    "kernelspec": {
      "name": "python3",
      "display_name": "Python 3"
    },
    "language_info": {
      "name": "python"
    }
  },
  "cells": [
    {
      "cell_type": "markdown",
      "source": [
        "***Use a dataset and use the model provided in to perform Clustering. Must try 5 clusters based on elbow curve and for each cluster visualize the clustering results and report your findings in detail***"
      ],
      "metadata": {
        "id": "lcc22H_HjNA6"
      }
    },
    {
      "cell_type": "markdown",
      "source": [
        "Importing Required Libraries"
      ],
      "metadata": {
        "id": "rxW-MG2Lj3QQ"
      }
    },
    {
      "cell_type": "code",
      "execution_count": 51,
      "metadata": {
        "id": "oViP2bfhMiJi"
      },
      "outputs": [],
      "source": [
        "#Importing required libraries\n",
        "import pandas as pd\n",
        "import numpy as np\n",
        "import matplotlib.pyplot as plt\n",
        "%matplotlib inline\n",
        "from sklearn.cluster import KMeans"
      ]
    },
    {
      "cell_type": "markdown",
      "source": [
        "Importing the Iris Dataset"
      ],
      "metadata": {
        "id": "k6ar_ulGj8bn"
      }
    },
    {
      "cell_type": "code",
      "source": [
        "#Importing required file\n",
        "from google.colab import files\n",
        "textfile = files.upload()"
      ],
      "metadata": {
        "colab": {
          "resources": {
            "http://localhost:8080/nbextensions/google.colab/files.js": {
              "data": "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",
              "ok": true,
              "headers": [
                [
                  "content-type",
                  "application/javascript"
                ]
              ],
              "status": 200,
              "status_text": ""
            }
          },
          "base_uri": "https://localhost:8080/",
          "height": 74
        },
        "id": "Gn4AofqAM2JD",
        "outputId": "c0f12d67-127f-4194-a8e6-8d38cd13eab9"
      },
      "execution_count": 52,
      "outputs": [
        {
          "output_type": "display_data",
          "data": {
            "text/html": [
              "\n",
              "     <input type=\"file\" id=\"files-23759b64-b08b-44c0-af2b-f92a10f14ec4\" name=\"files[]\" multiple disabled\n",
              "        style=\"border:none\" />\n",
              "     <output id=\"result-23759b64-b08b-44c0-af2b-f92a10f14ec4\">\n",
              "      Upload widget is only available when the cell has been executed in the\n",
              "      current browser session. Please rerun this cell to enable.\n",
              "      </output>\n",
              "      <script src=\"/nbextensions/google.colab/files.js\"></script> "
            ],
            "text/plain": [
              "<IPython.core.display.HTML object>"
            ]
          },
          "metadata": {}
        },
        {
          "output_type": "stream",
          "name": "stdout",
          "text": [
            "Saving Iris.csv to Iris (2).csv\n"
          ]
        }
      ]
    },
    {
      "cell_type": "markdown",
      "source": [
        "Reading the contents of the iris Data Set\n",
        "\n",
        "**Iris Data set**:\n",
        "\n",
        "The dataset contains a set of 150 records under five attributes\n",
        "\n",
        "1)sepal length\n",
        "\n",
        "2)Sepal width\n",
        "\n",
        "3)Petal length\n",
        "\n",
        "4)Petal width\n",
        "\n",
        "5)Species.\n",
        "\n",
        "It contains three species of Iris (Iris setosa, Iris virginica and Iris versicolor). These measures were used to create a linear discriminant model to classify the species. The dataset is often used in data mining, classification and clustering examples and to test algorithms."
      ],
      "metadata": {
        "id": "DsYm_5GakBWT"
      }
    },
    {
      "cell_type": "code",
      "source": [
        "#Reading data from the file\n",
        "data=pd.read_csv(\"/content/Iris.csv\")\n"
      ],
      "metadata": {
        "id": "mB6uPxA7M79T"
      },
      "execution_count": 53,
      "outputs": []
    },
    {
      "cell_type": "markdown",
      "source": [
        "Showing first 20 rows of the data"
      ],
      "metadata": {
        "id": "IvfNu59Kliz4"
      }
    },
    {
      "cell_type": "code",
      "source": [
        "#Showing first 20 rows of the data\n",
        "data.head(20)"
      ],
      "metadata": {
        "colab": {
          "base_uri": "https://localhost:8080/",
          "height": 676
        },
        "id": "EKYD7obtNC7l",
        "outputId": "77e8cc70-82a3-45eb-b161-204484afa76d"
      },
      "execution_count": 54,
      "outputs": [
        {
          "output_type": "execute_result",
          "data": {
            "text/html": [
              "\n",
              "  <div id=\"df-6db9f38b-02fb-42ce-afbe-a3782d77ecd3\">\n",
              "    <div class=\"colab-df-container\">\n",
              "      <div>\n",
              "<style scoped>\n",
              "    .dataframe tbody tr th:only-of-type {\n",
              "        vertical-align: middle;\n",
              "    }\n",
              "\n",
              "    .dataframe tbody tr th {\n",
              "        vertical-align: top;\n",
              "    }\n",
              "\n",
              "    .dataframe thead th {\n",
              "        text-align: right;\n",
              "    }\n",
              "</style>\n",
              "<table border=\"1\" class=\"dataframe\">\n",
              "  <thead>\n",
              "    <tr style=\"text-align: right;\">\n",
              "      <th></th>\n",
              "      <th>Id</th>\n",
              "      <th>SepalLengthCm</th>\n",
              "      <th>SepalWidthCm</th>\n",
              "      <th>PetalLengthCm</th>\n",
              "      <th>PetalWidthCm</th>\n",
              "      <th>Species</th>\n",
              "    </tr>\n",
              "  </thead>\n",
              "  <tbody>\n",
              "    <tr>\n",
              "      <th>0</th>\n",
              "      <td>1</td>\n",
              "      <td>5.1</td>\n",
              "      <td>3.5</td>\n",
              "      <td>1.4</td>\n",
              "      <td>0.2</td>\n",
              "      <td>Iris-setosa</td>\n",
              "    </tr>\n",
              "    <tr>\n",
              "      <th>1</th>\n",
              "      <td>2</td>\n",
              "      <td>4.9</td>\n",
              "      <td>3.0</td>\n",
              "      <td>1.4</td>\n",
              "      <td>0.2</td>\n",
              "      <td>Iris-setosa</td>\n",
              "    </tr>\n",
              "    <tr>\n",
              "      <th>2</th>\n",
              "      <td>3</td>\n",
              "      <td>4.7</td>\n",
              "      <td>3.2</td>\n",
              "      <td>1.3</td>\n",
              "      <td>0.2</td>\n",
              "      <td>Iris-setosa</td>\n",
              "    </tr>\n",
              "    <tr>\n",
              "      <th>3</th>\n",
              "      <td>4</td>\n",
              "      <td>4.6</td>\n",
              "      <td>3.1</td>\n",
              "      <td>1.5</td>\n",
              "      <td>0.2</td>\n",
              "      <td>Iris-setosa</td>\n",
              "    </tr>\n",
              "    <tr>\n",
              "      <th>4</th>\n",
              "      <td>5</td>\n",
              "      <td>5.0</td>\n",
              "      <td>3.6</td>\n",
              "      <td>1.4</td>\n",
              "      <td>0.2</td>\n",
              "      <td>Iris-setosa</td>\n",
              "    </tr>\n",
              "    <tr>\n",
              "      <th>5</th>\n",
              "      <td>6</td>\n",
              "      <td>5.4</td>\n",
              "      <td>3.9</td>\n",
              "      <td>1.7</td>\n",
              "      <td>0.4</td>\n",
              "      <td>Iris-setosa</td>\n",
              "    </tr>\n",
              "    <tr>\n",
              "      <th>6</th>\n",
              "      <td>7</td>\n",
              "      <td>4.6</td>\n",
              "      <td>3.4</td>\n",
              "      <td>1.4</td>\n",
              "      <td>0.3</td>\n",
              "      <td>Iris-setosa</td>\n",
              "    </tr>\n",
              "    <tr>\n",
              "      <th>7</th>\n",
              "      <td>8</td>\n",
              "      <td>5.0</td>\n",
              "      <td>3.4</td>\n",
              "      <td>1.5</td>\n",
              "      <td>0.2</td>\n",
              "      <td>Iris-setosa</td>\n",
              "    </tr>\n",
              "    <tr>\n",
              "      <th>8</th>\n",
              "      <td>9</td>\n",
              "      <td>4.4</td>\n",
              "      <td>2.9</td>\n",
              "      <td>1.4</td>\n",
              "      <td>0.2</td>\n",
              "      <td>Iris-setosa</td>\n",
              "    </tr>\n",
              "    <tr>\n",
              "      <th>9</th>\n",
              "      <td>10</td>\n",
              "      <td>4.9</td>\n",
              "      <td>3.1</td>\n",
              "      <td>1.5</td>\n",
              "      <td>0.1</td>\n",
              "      <td>Iris-setosa</td>\n",
              "    </tr>\n",
              "    <tr>\n",
              "      <th>10</th>\n",
              "      <td>11</td>\n",
              "      <td>5.4</td>\n",
              "      <td>3.7</td>\n",
              "      <td>1.5</td>\n",
              "      <td>0.2</td>\n",
              "      <td>Iris-setosa</td>\n",
              "    </tr>\n",
              "    <tr>\n",
              "      <th>11</th>\n",
              "      <td>12</td>\n",
              "      <td>4.8</td>\n",
              "      <td>3.4</td>\n",
              "      <td>1.6</td>\n",
              "      <td>0.2</td>\n",
              "      <td>Iris-setosa</td>\n",
              "    </tr>\n",
              "    <tr>\n",
              "      <th>12</th>\n",
              "      <td>13</td>\n",
              "      <td>4.8</td>\n",
              "      <td>3.0</td>\n",
              "      <td>1.4</td>\n",
              "      <td>0.1</td>\n",
              "      <td>Iris-setosa</td>\n",
              "    </tr>\n",
              "    <tr>\n",
              "      <th>13</th>\n",
              "      <td>14</td>\n",
              "      <td>4.3</td>\n",
              "      <td>3.0</td>\n",
              "      <td>1.1</td>\n",
              "      <td>0.1</td>\n",
              "      <td>Iris-setosa</td>\n",
              "    </tr>\n",
              "    <tr>\n",
              "      <th>14</th>\n",
              "      <td>15</td>\n",
              "      <td>5.8</td>\n",
              "      <td>4.0</td>\n",
              "      <td>1.2</td>\n",
              "      <td>0.2</td>\n",
              "      <td>Iris-setosa</td>\n",
              "    </tr>\n",
              "    <tr>\n",
              "      <th>15</th>\n",
              "      <td>16</td>\n",
              "      <td>5.7</td>\n",
              "      <td>4.4</td>\n",
              "      <td>1.5</td>\n",
              "      <td>0.4</td>\n",
              "      <td>Iris-setosa</td>\n",
              "    </tr>\n",
              "    <tr>\n",
              "      <th>16</th>\n",
              "      <td>17</td>\n",
              "      <td>5.4</td>\n",
              "      <td>3.9</td>\n",
              "      <td>1.3</td>\n",
              "      <td>0.4</td>\n",
              "      <td>Iris-setosa</td>\n",
              "    </tr>\n",
              "    <tr>\n",
              "      <th>17</th>\n",
              "      <td>18</td>\n",
              "      <td>5.1</td>\n",
              "      <td>3.5</td>\n",
              "      <td>1.4</td>\n",
              "      <td>0.3</td>\n",
              "      <td>Iris-setosa</td>\n",
              "    </tr>\n",
              "    <tr>\n",
              "      <th>18</th>\n",
              "      <td>19</td>\n",
              "      <td>5.7</td>\n",
              "      <td>3.8</td>\n",
              "      <td>1.7</td>\n",
              "      <td>0.3</td>\n",
              "      <td>Iris-setosa</td>\n",
              "    </tr>\n",
              "    <tr>\n",
              "      <th>19</th>\n",
              "      <td>20</td>\n",
              "      <td>5.1</td>\n",
              "      <td>3.8</td>\n",
              "      <td>1.5</td>\n",
              "      <td>0.3</td>\n",
              "      <td>Iris-setosa</td>\n",
              "    </tr>\n",
              "  </tbody>\n",
              "</table>\n",
              "</div>\n",
              "      <button class=\"colab-df-convert\" onclick=\"convertToInteractive('df-6db9f38b-02fb-42ce-afbe-a3782d77ecd3')\"\n",
              "              title=\"Convert this dataframe to an interactive table.\"\n",
              "              style=\"display:none;\">\n",
              "        \n",
              "  <svg xmlns=\"http://www.w3.org/2000/svg\" height=\"24px\"viewBox=\"0 0 24 24\"\n",
              "       width=\"24px\">\n",
              "    <path d=\"M0 0h24v24H0V0z\" fill=\"none\"/>\n",
              "    <path d=\"M18.56 5.44l.94 2.06.94-2.06 2.06-.94-2.06-.94-.94-2.06-.94 2.06-2.06.94zm-11 1L8.5 8.5l.94-2.06 2.06-.94-2.06-.94L8.5 2.5l-.94 2.06-2.06.94zm10 10l.94 2.06.94-2.06 2.06-.94-2.06-.94-.94-2.06-.94 2.06-2.06.94z\"/><path d=\"M17.41 7.96l-1.37-1.37c-.4-.4-.92-.59-1.43-.59-.52 0-1.04.2-1.43.59L10.3 9.45l-7.72 7.72c-.78.78-.78 2.05 0 2.83L4 21.41c.39.39.9.59 1.41.59.51 0 1.02-.2 1.41-.59l7.78-7.78 2.81-2.81c.8-.78.8-2.07 0-2.86zM5.41 20L4 18.59l7.72-7.72 1.47 1.35L5.41 20z\"/>\n",
              "  </svg>\n",
              "      </button>\n",
              "      \n",
              "  <style>\n",
              "    .colab-df-container {\n",
              "      display:flex;\n",
              "      flex-wrap:wrap;\n",
              "      gap: 12px;\n",
              "    }\n",
              "\n",
              "    .colab-df-convert {\n",
              "      background-color: #E8F0FE;\n",
              "      border: none;\n",
              "      border-radius: 50%;\n",
              "      cursor: pointer;\n",
              "      display: none;\n",
              "      fill: #1967D2;\n",
              "      height: 32px;\n",
              "      padding: 0 0 0 0;\n",
              "      width: 32px;\n",
              "    }\n",
              "\n",
              "    .colab-df-convert:hover {\n",
              "      background-color: #E2EBFA;\n",
              "      box-shadow: 0px 1px 2px rgba(60, 64, 67, 0.3), 0px 1px 3px 1px rgba(60, 64, 67, 0.15);\n",
              "      fill: #174EA6;\n",
              "    }\n",
              "\n",
              "    [theme=dark] .colab-df-convert {\n",
              "      background-color: #3B4455;\n",
              "      fill: #D2E3FC;\n",
              "    }\n",
              "\n",
              "    [theme=dark] .colab-df-convert:hover {\n",
              "      background-color: #434B5C;\n",
              "      box-shadow: 0px 1px 3px 1px rgba(0, 0, 0, 0.15);\n",
              "      filter: drop-shadow(0px 1px 2px rgba(0, 0, 0, 0.3));\n",
              "      fill: #FFFFFF;\n",
              "    }\n",
              "  </style>\n",
              "\n",
              "      <script>\n",
              "        const buttonEl =\n",
              "          document.querySelector('#df-6db9f38b-02fb-42ce-afbe-a3782d77ecd3 button.colab-df-convert');\n",
              "        buttonEl.style.display =\n",
              "          google.colab.kernel.accessAllowed ? 'block' : 'none';\n",
              "\n",
              "        async function convertToInteractive(key) {\n",
              "          const element = document.querySelector('#df-6db9f38b-02fb-42ce-afbe-a3782d77ecd3');\n",
              "          const dataTable =\n",
              "            await google.colab.kernel.invokeFunction('convertToInteractive',\n",
              "                                                     [key], {});\n",
              "          if (!dataTable) return;\n",
              "\n",
              "          const docLinkHtml = 'Like what you see? Visit the ' +\n",
              "            '<a target=\"_blank\" href=https://colab.research.google.com/notebooks/data_table.ipynb>data table notebook</a>'\n",
              "            + ' to learn more about interactive tables.';\n",
              "          element.innerHTML = '';\n",
              "          dataTable['output_type'] = 'display_data';\n",
              "          await google.colab.output.renderOutput(dataTable, element);\n",
              "          const docLink = document.createElement('div');\n",
              "          docLink.innerHTML = docLinkHtml;\n",
              "          element.appendChild(docLink);\n",
              "        }\n",
              "      </script>\n",
              "    </div>\n",
              "  </div>\n",
              "  "
            ],
            "text/plain": [
              "    Id  SepalLengthCm  SepalWidthCm  PetalLengthCm  PetalWidthCm      Species\n",
              "0    1            5.1           3.5            1.4           0.2  Iris-setosa\n",
              "1    2            4.9           3.0            1.4           0.2  Iris-setosa\n",
              "2    3            4.7           3.2            1.3           0.2  Iris-setosa\n",
              "3    4            4.6           3.1            1.5           0.2  Iris-setosa\n",
              "4    5            5.0           3.6            1.4           0.2  Iris-setosa\n",
              "5    6            5.4           3.9            1.7           0.4  Iris-setosa\n",
              "6    7            4.6           3.4            1.4           0.3  Iris-setosa\n",
              "7    8            5.0           3.4            1.5           0.2  Iris-setosa\n",
              "8    9            4.4           2.9            1.4           0.2  Iris-setosa\n",
              "9   10            4.9           3.1            1.5           0.1  Iris-setosa\n",
              "10  11            5.4           3.7            1.5           0.2  Iris-setosa\n",
              "11  12            4.8           3.4            1.6           0.2  Iris-setosa\n",
              "12  13            4.8           3.0            1.4           0.1  Iris-setosa\n",
              "13  14            4.3           3.0            1.1           0.1  Iris-setosa\n",
              "14  15            5.8           4.0            1.2           0.2  Iris-setosa\n",
              "15  16            5.7           4.4            1.5           0.4  Iris-setosa\n",
              "16  17            5.4           3.9            1.3           0.4  Iris-setosa\n",
              "17  18            5.1           3.5            1.4           0.3  Iris-setosa\n",
              "18  19            5.7           3.8            1.7           0.3  Iris-setosa\n",
              "19  20            5.1           3.8            1.5           0.3  Iris-setosa"
            ]
          },
          "metadata": {},
          "execution_count": 54
        }
      ]
    },
    {
      "cell_type": "markdown",
      "source": [
        "Description about the data"
      ],
      "metadata": {
        "id": "jlVn7UctlpAa"
      }
    },
    {
      "cell_type": "code",
      "source": [
        "#Description about the data\n",
        "data.describe()"
      ],
      "metadata": {
        "colab": {
          "base_uri": "https://localhost:8080/",
          "height": 300
        },
        "id": "hUZfclRXNHYC",
        "outputId": "032f0283-2dd1-407f-ff68-910480a4c71b"
      },
      "execution_count": 55,
      "outputs": [
        {
          "output_type": "execute_result",
          "data": {
            "text/html": [
              "\n",
              "  <div id=\"df-4b120601-011e-4560-a39d-472543c24388\">\n",
              "    <div class=\"colab-df-container\">\n",
              "      <div>\n",
              "<style scoped>\n",
              "    .dataframe tbody tr th:only-of-type {\n",
              "        vertical-align: middle;\n",
              "    }\n",
              "\n",
              "    .dataframe tbody tr th {\n",
              "        vertical-align: top;\n",
              "    }\n",
              "\n",
              "    .dataframe thead th {\n",
              "        text-align: right;\n",
              "    }\n",
              "</style>\n",
              "<table border=\"1\" class=\"dataframe\">\n",
              "  <thead>\n",
              "    <tr style=\"text-align: right;\">\n",
              "      <th></th>\n",
              "      <th>Id</th>\n",
              "      <th>SepalLengthCm</th>\n",
              "      <th>SepalWidthCm</th>\n",
              "      <th>PetalLengthCm</th>\n",
              "      <th>PetalWidthCm</th>\n",
              "    </tr>\n",
              "  </thead>\n",
              "  <tbody>\n",
              "    <tr>\n",
              "      <th>count</th>\n",
              "      <td>150.000000</td>\n",
              "      <td>150.000000</td>\n",
              "      <td>150.000000</td>\n",
              "      <td>150.000000</td>\n",
              "      <td>150.000000</td>\n",
              "    </tr>\n",
              "    <tr>\n",
              "      <th>mean</th>\n",
              "      <td>75.500000</td>\n",
              "      <td>5.843333</td>\n",
              "      <td>3.054000</td>\n",
              "      <td>3.758667</td>\n",
              "      <td>1.198667</td>\n",
              "    </tr>\n",
              "    <tr>\n",
              "      <th>std</th>\n",
              "      <td>43.445368</td>\n",
              "      <td>0.828066</td>\n",
              "      <td>0.433594</td>\n",
              "      <td>1.764420</td>\n",
              "      <td>0.763161</td>\n",
              "    </tr>\n",
              "    <tr>\n",
              "      <th>min</th>\n",
              "      <td>1.000000</td>\n",
              "      <td>4.300000</td>\n",
              "      <td>2.000000</td>\n",
              "      <td>1.000000</td>\n",
              "      <td>0.100000</td>\n",
              "    </tr>\n",
              "    <tr>\n",
              "      <th>25%</th>\n",
              "      <td>38.250000</td>\n",
              "      <td>5.100000</td>\n",
              "      <td>2.800000</td>\n",
              "      <td>1.600000</td>\n",
              "      <td>0.300000</td>\n",
              "    </tr>\n",
              "    <tr>\n",
              "      <th>50%</th>\n",
              "      <td>75.500000</td>\n",
              "      <td>5.800000</td>\n",
              "      <td>3.000000</td>\n",
              "      <td>4.350000</td>\n",
              "      <td>1.300000</td>\n",
              "    </tr>\n",
              "    <tr>\n",
              "      <th>75%</th>\n",
              "      <td>112.750000</td>\n",
              "      <td>6.400000</td>\n",
              "      <td>3.300000</td>\n",
              "      <td>5.100000</td>\n",
              "      <td>1.800000</td>\n",
              "    </tr>\n",
              "    <tr>\n",
              "      <th>max</th>\n",
              "      <td>150.000000</td>\n",
              "      <td>7.900000</td>\n",
              "      <td>4.400000</td>\n",
              "      <td>6.900000</td>\n",
              "      <td>2.500000</td>\n",
              "    </tr>\n",
              "  </tbody>\n",
              "</table>\n",
              "</div>\n",
              "      <button class=\"colab-df-convert\" onclick=\"convertToInteractive('df-4b120601-011e-4560-a39d-472543c24388')\"\n",
              "              title=\"Convert this dataframe to an interactive table.\"\n",
              "              style=\"display:none;\">\n",
              "        \n",
              "  <svg xmlns=\"http://www.w3.org/2000/svg\" height=\"24px\"viewBox=\"0 0 24 24\"\n",
              "       width=\"24px\">\n",
              "    <path d=\"M0 0h24v24H0V0z\" fill=\"none\"/>\n",
              "    <path d=\"M18.56 5.44l.94 2.06.94-2.06 2.06-.94-2.06-.94-.94-2.06-.94 2.06-2.06.94zm-11 1L8.5 8.5l.94-2.06 2.06-.94-2.06-.94L8.5 2.5l-.94 2.06-2.06.94zm10 10l.94 2.06.94-2.06 2.06-.94-2.06-.94-.94-2.06-.94 2.06-2.06.94z\"/><path d=\"M17.41 7.96l-1.37-1.37c-.4-.4-.92-.59-1.43-.59-.52 0-1.04.2-1.43.59L10.3 9.45l-7.72 7.72c-.78.78-.78 2.05 0 2.83L4 21.41c.39.39.9.59 1.41.59.51 0 1.02-.2 1.41-.59l7.78-7.78 2.81-2.81c.8-.78.8-2.07 0-2.86zM5.41 20L4 18.59l7.72-7.72 1.47 1.35L5.41 20z\"/>\n",
              "  </svg>\n",
              "      </button>\n",
              "      \n",
              "  <style>\n",
              "    .colab-df-container {\n",
              "      display:flex;\n",
              "      flex-wrap:wrap;\n",
              "      gap: 12px;\n",
              "    }\n",
              "\n",
              "    .colab-df-convert {\n",
              "      background-color: #E8F0FE;\n",
              "      border: none;\n",
              "      border-radius: 50%;\n",
              "      cursor: pointer;\n",
              "      display: none;\n",
              "      fill: #1967D2;\n",
              "      height: 32px;\n",
              "      padding: 0 0 0 0;\n",
              "      width: 32px;\n",
              "    }\n",
              "\n",
              "    .colab-df-convert:hover {\n",
              "      background-color: #E2EBFA;\n",
              "      box-shadow: 0px 1px 2px rgba(60, 64, 67, 0.3), 0px 1px 3px 1px rgba(60, 64, 67, 0.15);\n",
              "      fill: #174EA6;\n",
              "    }\n",
              "\n",
              "    [theme=dark] .colab-df-convert {\n",
              "      background-color: #3B4455;\n",
              "      fill: #D2E3FC;\n",
              "    }\n",
              "\n",
              "    [theme=dark] .colab-df-convert:hover {\n",
              "      background-color: #434B5C;\n",
              "      box-shadow: 0px 1px 3px 1px rgba(0, 0, 0, 0.15);\n",
              "      filter: drop-shadow(0px 1px 2px rgba(0, 0, 0, 0.3));\n",
              "      fill: #FFFFFF;\n",
              "    }\n",
              "  </style>\n",
              "\n",
              "      <script>\n",
              "        const buttonEl =\n",
              "          document.querySelector('#df-4b120601-011e-4560-a39d-472543c24388 button.colab-df-convert');\n",
              "        buttonEl.style.display =\n",
              "          google.colab.kernel.accessAllowed ? 'block' : 'none';\n",
              "\n",
              "        async function convertToInteractive(key) {\n",
              "          const element = document.querySelector('#df-4b120601-011e-4560-a39d-472543c24388');\n",
              "          const dataTable =\n",
              "            await google.colab.kernel.invokeFunction('convertToInteractive',\n",
              "                                                     [key], {});\n",
              "          if (!dataTable) return;\n",
              "\n",
              "          const docLinkHtml = 'Like what you see? Visit the ' +\n",
              "            '<a target=\"_blank\" href=https://colab.research.google.com/notebooks/data_table.ipynb>data table notebook</a>'\n",
              "            + ' to learn more about interactive tables.';\n",
              "          element.innerHTML = '';\n",
              "          dataTable['output_type'] = 'display_data';\n",
              "          await google.colab.output.renderOutput(dataTable, element);\n",
              "          const docLink = document.createElement('div');\n",
              "          docLink.innerHTML = docLinkHtml;\n",
              "          element.appendChild(docLink);\n",
              "        }\n",
              "      </script>\n",
              "    </div>\n",
              "  </div>\n",
              "  "
            ],
            "text/plain": [
              "               Id  SepalLengthCm  SepalWidthCm  PetalLengthCm  PetalWidthCm\n",
              "count  150.000000     150.000000    150.000000     150.000000    150.000000\n",
              "mean    75.500000       5.843333      3.054000       3.758667      1.198667\n",
              "std     43.445368       0.828066      0.433594       1.764420      0.763161\n",
              "min      1.000000       4.300000      2.000000       1.000000      0.100000\n",
              "25%     38.250000       5.100000      2.800000       1.600000      0.300000\n",
              "50%     75.500000       5.800000      3.000000       4.350000      1.300000\n",
              "75%    112.750000       6.400000      3.300000       5.100000      1.800000\n",
              "max    150.000000       7.900000      4.400000       6.900000      2.500000"
            ]
          },
          "metadata": {},
          "execution_count": 55
        }
      ]
    },
    {
      "cell_type": "code",
      "source": [
        "#Information about the data set such as data type and null data\n",
        "data.info()"
      ],
      "metadata": {
        "colab": {
          "base_uri": "https://localhost:8080/"
        },
        "id": "0WlGj9r3NK15",
        "outputId": "996b809f-5cf1-497c-99fd-d6a55ebcfa78"
      },
      "execution_count": 56,
      "outputs": [
        {
          "output_type": "stream",
          "name": "stdout",
          "text": [
            "<class 'pandas.core.frame.DataFrame'>\n",
            "RangeIndex: 150 entries, 0 to 149\n",
            "Data columns (total 6 columns):\n",
            " #   Column         Non-Null Count  Dtype  \n",
            "---  ------         --------------  -----  \n",
            " 0   Id             150 non-null    int64  \n",
            " 1   SepalLengthCm  150 non-null    float64\n",
            " 2   SepalWidthCm   150 non-null    float64\n",
            " 3   PetalLengthCm  150 non-null    float64\n",
            " 4   PetalWidthCm   150 non-null    float64\n",
            " 5   Species        150 non-null    object \n",
            "dtypes: float64(4), int64(1), object(1)\n",
            "memory usage: 7.2+ KB\n"
          ]
        }
      ]
    },
    {
      "cell_type": "markdown",
      "source": [
        "Depecting columns in the dataset"
      ],
      "metadata": {
        "id": "fovKcc7YluP6"
      }
    },
    {
      "cell_type": "code",
      "source": [
        "#Showing columns present in the data\n",
        "data.columns"
      ],
      "metadata": {
        "colab": {
          "base_uri": "https://localhost:8080/"
        },
        "id": "tVQY5IqYNORV",
        "outputId": "0db52ecc-53e0-4baa-be80-e07239bb6c0f"
      },
      "execution_count": 57,
      "outputs": [
        {
          "output_type": "execute_result",
          "data": {
            "text/plain": [
              "Index(['Id', 'SepalLengthCm', 'SepalWidthCm', 'PetalLengthCm', 'PetalWidthCm',\n",
              "       'Species'],\n",
              "      dtype='object')"
            ]
          },
          "metadata": {},
          "execution_count": 57
        }
      ]
    },
    {
      "cell_type": "markdown",
      "source": [
        "Extracting numerical type of columns "
      ],
      "metadata": {
        "id": "va_k7VH3mPdf"
      }
    },
    {
      "cell_type": "code",
      "source": [
        "#Extracting only integer and float data type columns to a separate data frame\n",
        "Data = data[\n",
        "            ['Id', 'SepalLengthCm', 'SepalWidthCm', 'PetalLengthCm', 'PetalWidthCm']]\n",
        "Data"
      ],
      "metadata": {
        "colab": {
          "base_uri": "https://localhost:8080/",
          "height": 423
        },
        "id": "nKFjKy3ONRcd",
        "outputId": "cd303c28-0d65-4350-92d9-423f5a0908cf"
      },
      "execution_count": 58,
      "outputs": [
        {
          "output_type": "execute_result",
          "data": {
            "text/html": [
              "\n",
              "  <div id=\"df-72d46b76-21c1-4fb4-8d20-941034f5cfb7\">\n",
              "    <div class=\"colab-df-container\">\n",
              "      <div>\n",
              "<style scoped>\n",
              "    .dataframe tbody tr th:only-of-type {\n",
              "        vertical-align: middle;\n",
              "    }\n",
              "\n",
              "    .dataframe tbody tr th {\n",
              "        vertical-align: top;\n",
              "    }\n",
              "\n",
              "    .dataframe thead th {\n",
              "        text-align: right;\n",
              "    }\n",
              "</style>\n",
              "<table border=\"1\" class=\"dataframe\">\n",
              "  <thead>\n",
              "    <tr style=\"text-align: right;\">\n",
              "      <th></th>\n",
              "      <th>Id</th>\n",
              "      <th>SepalLengthCm</th>\n",
              "      <th>SepalWidthCm</th>\n",
              "      <th>PetalLengthCm</th>\n",
              "      <th>PetalWidthCm</th>\n",
              "    </tr>\n",
              "  </thead>\n",
              "  <tbody>\n",
              "    <tr>\n",
              "      <th>0</th>\n",
              "      <td>1</td>\n",
              "      <td>5.1</td>\n",
              "      <td>3.5</td>\n",
              "      <td>1.4</td>\n",
              "      <td>0.2</td>\n",
              "    </tr>\n",
              "    <tr>\n",
              "      <th>1</th>\n",
              "      <td>2</td>\n",
              "      <td>4.9</td>\n",
              "      <td>3.0</td>\n",
              "      <td>1.4</td>\n",
              "      <td>0.2</td>\n",
              "    </tr>\n",
              "    <tr>\n",
              "      <th>2</th>\n",
              "      <td>3</td>\n",
              "      <td>4.7</td>\n",
              "      <td>3.2</td>\n",
              "      <td>1.3</td>\n",
              "      <td>0.2</td>\n",
              "    </tr>\n",
              "    <tr>\n",
              "      <th>3</th>\n",
              "      <td>4</td>\n",
              "      <td>4.6</td>\n",
              "      <td>3.1</td>\n",
              "      <td>1.5</td>\n",
              "      <td>0.2</td>\n",
              "    </tr>\n",
              "    <tr>\n",
              "      <th>4</th>\n",
              "      <td>5</td>\n",
              "      <td>5.0</td>\n",
              "      <td>3.6</td>\n",
              "      <td>1.4</td>\n",
              "      <td>0.2</td>\n",
              "    </tr>\n",
              "    <tr>\n",
              "      <th>...</th>\n",
              "      <td>...</td>\n",
              "      <td>...</td>\n",
              "      <td>...</td>\n",
              "      <td>...</td>\n",
              "      <td>...</td>\n",
              "    </tr>\n",
              "    <tr>\n",
              "      <th>145</th>\n",
              "      <td>146</td>\n",
              "      <td>6.7</td>\n",
              "      <td>3.0</td>\n",
              "      <td>5.2</td>\n",
              "      <td>2.3</td>\n",
              "    </tr>\n",
              "    <tr>\n",
              "      <th>146</th>\n",
              "      <td>147</td>\n",
              "      <td>6.3</td>\n",
              "      <td>2.5</td>\n",
              "      <td>5.0</td>\n",
              "      <td>1.9</td>\n",
              "    </tr>\n",
              "    <tr>\n",
              "      <th>147</th>\n",
              "      <td>148</td>\n",
              "      <td>6.5</td>\n",
              "      <td>3.0</td>\n",
              "      <td>5.2</td>\n",
              "      <td>2.0</td>\n",
              "    </tr>\n",
              "    <tr>\n",
              "      <th>148</th>\n",
              "      <td>149</td>\n",
              "      <td>6.2</td>\n",
              "      <td>3.4</td>\n",
              "      <td>5.4</td>\n",
              "      <td>2.3</td>\n",
              "    </tr>\n",
              "    <tr>\n",
              "      <th>149</th>\n",
              "      <td>150</td>\n",
              "      <td>5.9</td>\n",
              "      <td>3.0</td>\n",
              "      <td>5.1</td>\n",
              "      <td>1.8</td>\n",
              "    </tr>\n",
              "  </tbody>\n",
              "</table>\n",
              "<p>150 rows × 5 columns</p>\n",
              "</div>\n",
              "      <button class=\"colab-df-convert\" onclick=\"convertToInteractive('df-72d46b76-21c1-4fb4-8d20-941034f5cfb7')\"\n",
              "              title=\"Convert this dataframe to an interactive table.\"\n",
              "              style=\"display:none;\">\n",
              "        \n",
              "  <svg xmlns=\"http://www.w3.org/2000/svg\" height=\"24px\"viewBox=\"0 0 24 24\"\n",
              "       width=\"24px\">\n",
              "    <path d=\"M0 0h24v24H0V0z\" fill=\"none\"/>\n",
              "    <path d=\"M18.56 5.44l.94 2.06.94-2.06 2.06-.94-2.06-.94-.94-2.06-.94 2.06-2.06.94zm-11 1L8.5 8.5l.94-2.06 2.06-.94-2.06-.94L8.5 2.5l-.94 2.06-2.06.94zm10 10l.94 2.06.94-2.06 2.06-.94-2.06-.94-.94-2.06-.94 2.06-2.06.94z\"/><path d=\"M17.41 7.96l-1.37-1.37c-.4-.4-.92-.59-1.43-.59-.52 0-1.04.2-1.43.59L10.3 9.45l-7.72 7.72c-.78.78-.78 2.05 0 2.83L4 21.41c.39.39.9.59 1.41.59.51 0 1.02-.2 1.41-.59l7.78-7.78 2.81-2.81c.8-.78.8-2.07 0-2.86zM5.41 20L4 18.59l7.72-7.72 1.47 1.35L5.41 20z\"/>\n",
              "  </svg>\n",
              "      </button>\n",
              "      \n",
              "  <style>\n",
              "    .colab-df-container {\n",
              "      display:flex;\n",
              "      flex-wrap:wrap;\n",
              "      gap: 12px;\n",
              "    }\n",
              "\n",
              "    .colab-df-convert {\n",
              "      background-color: #E8F0FE;\n",
              "      border: none;\n",
              "      border-radius: 50%;\n",
              "      cursor: pointer;\n",
              "      display: none;\n",
              "      fill: #1967D2;\n",
              "      height: 32px;\n",
              "      padding: 0 0 0 0;\n",
              "      width: 32px;\n",
              "    }\n",
              "\n",
              "    .colab-df-convert:hover {\n",
              "      background-color: #E2EBFA;\n",
              "      box-shadow: 0px 1px 2px rgba(60, 64, 67, 0.3), 0px 1px 3px 1px rgba(60, 64, 67, 0.15);\n",
              "      fill: #174EA6;\n",
              "    }\n",
              "\n",
              "    [theme=dark] .colab-df-convert {\n",
              "      background-color: #3B4455;\n",
              "      fill: #D2E3FC;\n",
              "    }\n",
              "\n",
              "    [theme=dark] .colab-df-convert:hover {\n",
              "      background-color: #434B5C;\n",
              "      box-shadow: 0px 1px 3px 1px rgba(0, 0, 0, 0.15);\n",
              "      filter: drop-shadow(0px 1px 2px rgba(0, 0, 0, 0.3));\n",
              "      fill: #FFFFFF;\n",
              "    }\n",
              "  </style>\n",
              "\n",
              "      <script>\n",
              "        const buttonEl =\n",
              "          document.querySelector('#df-72d46b76-21c1-4fb4-8d20-941034f5cfb7 button.colab-df-convert');\n",
              "        buttonEl.style.display =\n",
              "          google.colab.kernel.accessAllowed ? 'block' : 'none';\n",
              "\n",
              "        async function convertToInteractive(key) {\n",
              "          const element = document.querySelector('#df-72d46b76-21c1-4fb4-8d20-941034f5cfb7');\n",
              "          const dataTable =\n",
              "            await google.colab.kernel.invokeFunction('convertToInteractive',\n",
              "                                                     [key], {});\n",
              "          if (!dataTable) return;\n",
              "\n",
              "          const docLinkHtml = 'Like what you see? Visit the ' +\n",
              "            '<a target=\"_blank\" href=https://colab.research.google.com/notebooks/data_table.ipynb>data table notebook</a>'\n",
              "            + ' to learn more about interactive tables.';\n",
              "          element.innerHTML = '';\n",
              "          dataTable['output_type'] = 'display_data';\n",
              "          await google.colab.output.renderOutput(dataTable, element);\n",
              "          const docLink = document.createElement('div');\n",
              "          docLink.innerHTML = docLinkHtml;\n",
              "          element.appendChild(docLink);\n",
              "        }\n",
              "      </script>\n",
              "    </div>\n",
              "  </div>\n",
              "  "
            ],
            "text/plain": [
              "      Id  SepalLengthCm  SepalWidthCm  PetalLengthCm  PetalWidthCm\n",
              "0      1            5.1           3.5            1.4           0.2\n",
              "1      2            4.9           3.0            1.4           0.2\n",
              "2      3            4.7           3.2            1.3           0.2\n",
              "3      4            4.6           3.1            1.5           0.2\n",
              "4      5            5.0           3.6            1.4           0.2\n",
              "..   ...            ...           ...            ...           ...\n",
              "145  146            6.7           3.0            5.2           2.3\n",
              "146  147            6.3           2.5            5.0           1.9\n",
              "147  148            6.5           3.0            5.2           2.0\n",
              "148  149            6.2           3.4            5.4           2.3\n",
              "149  150            5.9           3.0            5.1           1.8\n",
              "\n",
              "[150 rows x 5 columns]"
            ]
          },
          "metadata": {},
          "execution_count": 58
        }
      ]
    },
    {
      "cell_type": "markdown",
      "source": [
        "Depecting the extracted data"
      ],
      "metadata": {
        "id": "mVfWSZGymUpM"
      }
    },
    {
      "cell_type": "code",
      "source": [
        "#Information about the newly extracted data\n",
        "Data.info()"
      ],
      "metadata": {
        "colab": {
          "base_uri": "https://localhost:8080/"
        },
        "id": "ph40No4fNsv4",
        "outputId": "a873511c-42df-46b5-8af4-e8c019f9ee16"
      },
      "execution_count": 59,
      "outputs": [
        {
          "output_type": "stream",
          "name": "stdout",
          "text": [
            "<class 'pandas.core.frame.DataFrame'>\n",
            "RangeIndex: 150 entries, 0 to 149\n",
            "Data columns (total 5 columns):\n",
            " #   Column         Non-Null Count  Dtype  \n",
            "---  ------         --------------  -----  \n",
            " 0   Id             150 non-null    int64  \n",
            " 1   SepalLengthCm  150 non-null    float64\n",
            " 2   SepalWidthCm   150 non-null    float64\n",
            " 3   PetalLengthCm  150 non-null    float64\n",
            " 4   PetalWidthCm   150 non-null    float64\n",
            "dtypes: float64(4), int64(1)\n",
            "memory usage: 6.0 KB\n"
          ]
        }
      ]
    },
    {
      "cell_type": "markdown",
      "source": [
        "**Scaling of the data:** \n",
        "\n",
        "There is a lot of diversity in the magnitude of the data, as we can see. The magnitude of variables is greater.\n",
        "\n",
        "Because K-Means is a distance-based method, this magnitude disparity can be problematic. Let's start by bringing all of the variables to the same scale"
      ],
      "metadata": {
        "id": "UPkpfNKhma-x"
      }
    },
    {
      "cell_type": "code",
      "source": [
        "#Performed scaling on the data so that data will be in the closest range of values\n",
        "from sklearn.preprocessing import StandardScaler\n",
        "scaler = StandardScaler()\n",
        "Scaled_Data = scaler.fit_transform(Data)\n",
        "print(Scaled_Data)\n",
        "\n",
        "# statistics of scaled data\n",
        "data_s=pd.DataFrame(Scaled_Data).describe()\n",
        "data_s"
      ],
      "metadata": {
        "colab": {
          "base_uri": "https://localhost:8080/",
          "height": 1000
        },
        "id": "-Sn3K4tONwQ-",
        "outputId": "bd6708ef-caa1-4218-e15e-d70dba818a03"
      },
      "execution_count": 60,
      "outputs": [
        {
          "output_type": "stream",
          "name": "stdout",
          "text": [
            "[[-1.72054204e+00 -9.00681170e-01  1.03205722e+00 -1.34127240e+00\n",
            "  -1.31297673e+00]\n",
            " [-1.69744751e+00 -1.14301691e+00 -1.24957601e-01 -1.34127240e+00\n",
            "  -1.31297673e+00]\n",
            " [-1.67435299e+00 -1.38535265e+00  3.37848329e-01 -1.39813811e+00\n",
            "  -1.31297673e+00]\n",
            " [-1.65125846e+00 -1.50652052e+00  1.06445364e-01 -1.28440670e+00\n",
            "  -1.31297673e+00]\n",
            " [-1.62816394e+00 -1.02184904e+00  1.26346019e+00 -1.34127240e+00\n",
            "  -1.31297673e+00]\n",
            " [-1.60506942e+00 -5.37177559e-01  1.95766909e+00 -1.17067529e+00\n",
            "  -1.05003079e+00]\n",
            " [-1.58197489e+00 -1.50652052e+00  8.00654259e-01 -1.34127240e+00\n",
            "  -1.18150376e+00]\n",
            " [-1.55888037e+00 -1.02184904e+00  8.00654259e-01 -1.28440670e+00\n",
            "  -1.31297673e+00]\n",
            " [-1.53578584e+00 -1.74885626e+00 -3.56360566e-01 -1.34127240e+00\n",
            "  -1.31297673e+00]\n",
            " [-1.51269132e+00 -1.14301691e+00  1.06445364e-01 -1.28440670e+00\n",
            "  -1.44444970e+00]\n",
            " [-1.48959680e+00 -5.37177559e-01  1.49486315e+00 -1.28440670e+00\n",
            "  -1.31297673e+00]\n",
            " [-1.46650227e+00 -1.26418478e+00  8.00654259e-01 -1.22754100e+00\n",
            "  -1.31297673e+00]\n",
            " [-1.44340775e+00 -1.26418478e+00 -1.24957601e-01 -1.34127240e+00\n",
            "  -1.44444970e+00]\n",
            " [-1.42031323e+00 -1.87002413e+00 -1.24957601e-01 -1.51186952e+00\n",
            "  -1.44444970e+00]\n",
            " [-1.39721870e+00 -5.25060772e-02  2.18907205e+00 -1.45500381e+00\n",
            "  -1.31297673e+00]\n",
            " [-1.37412418e+00 -1.73673948e-01  3.11468391e+00 -1.28440670e+00\n",
            "  -1.05003079e+00]\n",
            " [-1.35102965e+00 -5.37177559e-01  1.95766909e+00 -1.39813811e+00\n",
            "  -1.05003079e+00]\n",
            " [-1.32793513e+00 -9.00681170e-01  1.03205722e+00 -1.34127240e+00\n",
            "  -1.18150376e+00]\n",
            " [-1.30484061e+00 -1.73673948e-01  1.72626612e+00 -1.17067529e+00\n",
            "  -1.18150376e+00]\n",
            " [-1.28174608e+00 -9.00681170e-01  1.72626612e+00 -1.28440670e+00\n",
            "  -1.18150376e+00]\n",
            " [-1.25865156e+00 -5.37177559e-01  8.00654259e-01 -1.17067529e+00\n",
            "  -1.31297673e+00]\n",
            " [-1.23555703e+00 -9.00681170e-01  1.49486315e+00 -1.28440670e+00\n",
            "  -1.05003079e+00]\n",
            " [-1.21246251e+00 -1.50652052e+00  1.26346019e+00 -1.56873522e+00\n",
            "  -1.31297673e+00]\n",
            " [-1.18936799e+00 -9.00681170e-01  5.69251294e-01 -1.17067529e+00\n",
            "  -9.18557817e-01]\n",
            " [-1.16627346e+00 -1.26418478e+00  8.00654259e-01 -1.05694388e+00\n",
            "  -1.31297673e+00]\n",
            " [-1.14317894e+00 -1.02184904e+00 -1.24957601e-01 -1.22754100e+00\n",
            "  -1.31297673e+00]\n",
            " [-1.12008441e+00 -1.02184904e+00  8.00654259e-01 -1.22754100e+00\n",
            "  -1.05003079e+00]\n",
            " [-1.09698989e+00 -7.79513300e-01  1.03205722e+00 -1.28440670e+00\n",
            "  -1.31297673e+00]\n",
            " [-1.07389537e+00 -7.79513300e-01  8.00654259e-01 -1.34127240e+00\n",
            "  -1.31297673e+00]\n",
            " [-1.05080084e+00 -1.38535265e+00  3.37848329e-01 -1.22754100e+00\n",
            "  -1.31297673e+00]\n",
            " [-1.02770632e+00 -1.26418478e+00  1.06445364e-01 -1.22754100e+00\n",
            "  -1.31297673e+00]\n",
            " [-1.00461179e+00 -5.37177559e-01  8.00654259e-01 -1.28440670e+00\n",
            "  -1.05003079e+00]\n",
            " [-9.81517269e-01 -7.79513300e-01  2.42047502e+00 -1.28440670e+00\n",
            "  -1.44444970e+00]\n",
            " [-9.58422745e-01 -4.16009689e-01  2.65187798e+00 -1.34127240e+00\n",
            "  -1.31297673e+00]\n",
            " [-9.35328221e-01 -1.14301691e+00  1.06445364e-01 -1.28440670e+00\n",
            "  -1.44444970e+00]\n",
            " [-9.12233697e-01 -1.02184904e+00  3.37848329e-01 -1.45500381e+00\n",
            "  -1.31297673e+00]\n",
            " [-8.89139173e-01 -4.16009689e-01  1.03205722e+00 -1.39813811e+00\n",
            "  -1.31297673e+00]\n",
            " [-8.66044649e-01 -1.14301691e+00  1.06445364e-01 -1.28440670e+00\n",
            "  -1.44444970e+00]\n",
            " [-8.42950125e-01 -1.74885626e+00 -1.24957601e-01 -1.39813811e+00\n",
            "  -1.31297673e+00]\n",
            " [-8.19855601e-01 -9.00681170e-01  8.00654259e-01 -1.28440670e+00\n",
            "  -1.31297673e+00]\n",
            " [-7.96761077e-01 -1.02184904e+00  1.03205722e+00 -1.39813811e+00\n",
            "  -1.18150376e+00]\n",
            " [-7.73666553e-01 -1.62768839e+00 -1.74477836e+00 -1.39813811e+00\n",
            "  -1.18150376e+00]\n",
            " [-7.50572030e-01 -1.74885626e+00  3.37848329e-01 -1.39813811e+00\n",
            "  -1.31297673e+00]\n",
            " [-7.27477506e-01 -1.02184904e+00  1.03205722e+00 -1.22754100e+00\n",
            "  -7.87084847e-01]\n",
            " [-7.04382982e-01 -9.00681170e-01  1.72626612e+00 -1.05694388e+00\n",
            "  -1.05003079e+00]\n",
            " [-6.81288458e-01 -1.26418478e+00 -1.24957601e-01 -1.34127240e+00\n",
            "  -1.18150376e+00]\n",
            " [-6.58193934e-01 -9.00681170e-01  1.72626612e+00 -1.22754100e+00\n",
            "  -1.31297673e+00]\n",
            " [-6.35099410e-01 -1.50652052e+00  3.37848329e-01 -1.34127240e+00\n",
            "  -1.31297673e+00]\n",
            " [-6.12004886e-01 -6.58345429e-01  1.49486315e+00 -1.28440670e+00\n",
            "  -1.31297673e+00]\n",
            " [-5.88910362e-01 -1.02184904e+00  5.69251294e-01 -1.34127240e+00\n",
            "  -1.31297673e+00]\n",
            " [-5.65815838e-01  1.40150837e+00  3.37848329e-01  5.35295827e-01\n",
            "   2.64698913e-01]\n",
            " [-5.42721314e-01  6.74501145e-01  3.37848329e-01  4.21564419e-01\n",
            "   3.96171883e-01]\n",
            " [-5.19626790e-01  1.28034050e+00  1.06445364e-01  6.49027235e-01\n",
            "   3.96171883e-01]\n",
            " [-4.96532266e-01 -4.16009689e-01 -1.74477836e+00  1.37235899e-01\n",
            "   1.33225943e-01]\n",
            " [-4.73437742e-01  7.95669016e-01 -5.87763531e-01  4.78430123e-01\n",
            "   3.96171883e-01]\n",
            " [-4.50343218e-01 -1.73673948e-01 -5.87763531e-01  4.21564419e-01\n",
            "   1.33225943e-01]\n",
            " [-4.27248694e-01  5.53333275e-01  5.69251294e-01  5.35295827e-01\n",
            "   5.27644853e-01]\n",
            " [-4.04154170e-01 -1.14301691e+00 -1.51337539e+00 -2.60824029e-01\n",
            "  -2.61192967e-01]\n",
            " [-3.81059646e-01  9.16836886e-01 -3.56360566e-01  4.78430123e-01\n",
            "   1.33225943e-01]\n",
            " [-3.57965122e-01 -7.79513300e-01 -8.19166497e-01  8.03701950e-02\n",
            "   2.64698913e-01]\n",
            " [-3.34870598e-01 -1.02184904e+00 -2.43898725e+00 -1.47092621e-01\n",
            "  -2.61192967e-01]\n",
            " [-3.11776074e-01  6.86617933e-02 -1.24957601e-01  2.50967307e-01\n",
            "   3.96171883e-01]\n",
            " [-2.88681550e-01  1.89829664e-01 -1.97618132e+00  1.37235899e-01\n",
            "  -2.61192967e-01]\n",
            " [-2.65587026e-01  3.10997534e-01 -3.56360566e-01  5.35295827e-01\n",
            "   2.64698913e-01]\n",
            " [-2.42492502e-01 -2.94841818e-01 -3.56360566e-01 -9.02269170e-02\n",
            "   1.33225943e-01]\n",
            " [-2.19397978e-01  1.03800476e+00  1.06445364e-01  3.64698715e-01\n",
            "   2.64698913e-01]\n",
            " [-1.96303454e-01 -2.94841818e-01 -1.24957601e-01  4.21564419e-01\n",
            "   3.96171883e-01]\n",
            " [-1.73208930e-01 -5.25060772e-02 -8.19166497e-01  1.94101603e-01\n",
            "  -2.61192967e-01]\n",
            " [-1.50114406e-01  4.32165405e-01 -1.97618132e+00  4.21564419e-01\n",
            "   3.96171883e-01]\n",
            " [-1.27019882e-01 -2.94841818e-01 -1.28197243e+00  8.03701950e-02\n",
            "  -1.29719997e-01]\n",
            " [-1.03925358e-01  6.86617933e-02  3.37848329e-01  5.92161531e-01\n",
            "   7.90590793e-01]\n",
            " [-8.08308339e-02  3.10997534e-01 -5.87763531e-01  1.37235899e-01\n",
            "   1.33225943e-01]\n",
            " [-5.77363100e-02  5.53333275e-01 -1.28197243e+00  6.49027235e-01\n",
            "   3.96171883e-01]\n",
            " [-3.46417860e-02  3.10997534e-01 -5.87763531e-01  5.35295827e-01\n",
            "   1.75297293e-03]\n",
            " [-1.15472620e-02  6.74501145e-01 -3.56360566e-01  3.07833011e-01\n",
            "   1.33225943e-01]\n",
            " [ 1.15472620e-02  9.16836886e-01 -1.24957601e-01  3.64698715e-01\n",
            "   2.64698913e-01]\n",
            " [ 3.46417860e-02  1.15917263e+00 -5.87763531e-01  5.92161531e-01\n",
            "   2.64698913e-01]\n",
            " [ 5.77363100e-02  1.03800476e+00 -1.24957601e-01  7.05892939e-01\n",
            "   6.59117823e-01]\n",
            " [ 8.08308339e-02  1.89829664e-01 -3.56360566e-01  4.21564419e-01\n",
            "   3.96171883e-01]\n",
            " [ 1.03925358e-01 -1.73673948e-01 -1.05056946e+00 -1.47092621e-01\n",
            "  -2.61192967e-01]\n",
            " [ 1.27019882e-01 -4.16009689e-01 -1.51337539e+00  2.35044910e-02\n",
            "  -1.29719997e-01]\n",
            " [ 1.50114406e-01 -4.16009689e-01 -1.51337539e+00 -3.33612130e-02\n",
            "  -2.61192967e-01]\n",
            " [ 1.73208930e-01 -5.25060772e-02 -8.19166497e-01  8.03701950e-02\n",
            "   1.75297293e-03]\n",
            " [ 1.96303454e-01  1.89829664e-01 -8.19166497e-01  7.62758643e-01\n",
            "   5.27644853e-01]\n",
            " [ 2.19397978e-01 -5.37177559e-01 -1.24957601e-01  4.21564419e-01\n",
            "   3.96171883e-01]\n",
            " [ 2.42492502e-01  1.89829664e-01  8.00654259e-01  4.21564419e-01\n",
            "   5.27644853e-01]\n",
            " [ 2.65587026e-01  1.03800476e+00  1.06445364e-01  5.35295827e-01\n",
            "   3.96171883e-01]\n",
            " [ 2.88681550e-01  5.53333275e-01 -1.74477836e+00  3.64698715e-01\n",
            "   1.33225943e-01]\n",
            " [ 3.11776074e-01 -2.94841818e-01 -1.24957601e-01  1.94101603e-01\n",
            "   1.33225943e-01]\n",
            " [ 3.34870598e-01 -4.16009689e-01 -1.28197243e+00  1.37235899e-01\n",
            "   1.33225943e-01]\n",
            " [ 3.57965122e-01 -4.16009689e-01 -1.05056946e+00  3.64698715e-01\n",
            "   1.75297293e-03]\n",
            " [ 3.81059646e-01  3.10997534e-01 -1.24957601e-01  4.78430123e-01\n",
            "   2.64698913e-01]\n",
            " [ 4.04154170e-01 -5.25060772e-02 -1.05056946e+00  1.37235899e-01\n",
            "   1.75297293e-03]\n",
            " [ 4.27248694e-01 -1.02184904e+00 -1.74477836e+00 -2.60824029e-01\n",
            "  -2.61192967e-01]\n",
            " [ 4.50343218e-01 -2.94841818e-01 -8.19166497e-01  2.50967307e-01\n",
            "   1.33225943e-01]\n",
            " [ 4.73437742e-01 -1.73673948e-01 -1.24957601e-01  2.50967307e-01\n",
            "   1.75297293e-03]\n",
            " [ 4.96532266e-01 -1.73673948e-01 -3.56360566e-01  2.50967307e-01\n",
            "   1.33225943e-01]\n",
            " [ 5.19626790e-01  4.32165405e-01 -3.56360566e-01  3.07833011e-01\n",
            "   1.33225943e-01]\n",
            " [ 5.42721314e-01 -9.00681170e-01 -1.28197243e+00 -4.31421141e-01\n",
            "  -1.29719997e-01]\n",
            " [ 5.65815838e-01 -1.73673948e-01 -5.87763531e-01  1.94101603e-01\n",
            "   1.33225943e-01]\n",
            " [ 5.88910362e-01  5.53333275e-01  5.69251294e-01  1.27454998e+00\n",
            "   1.71090158e+00]\n",
            " [ 6.12004886e-01 -5.25060772e-02 -8.19166497e-01  7.62758643e-01\n",
            "   9.22063763e-01]\n",
            " [ 6.35099410e-01  1.52267624e+00 -1.24957601e-01  1.21768427e+00\n",
            "   1.18500970e+00]\n",
            " [ 6.58193934e-01  5.53333275e-01 -3.56360566e-01  1.04708716e+00\n",
            "   7.90590793e-01]\n",
            " [ 6.81288458e-01  7.95669016e-01 -1.24957601e-01  1.16081857e+00\n",
            "   1.31648267e+00]\n",
            " [ 7.04382982e-01  2.12851559e+00 -1.24957601e-01  1.61574420e+00\n",
            "   1.18500970e+00]\n",
            " [ 7.27477506e-01 -1.14301691e+00 -1.28197243e+00  4.21564419e-01\n",
            "   6.59117823e-01]\n",
            " [ 7.50572030e-01  1.76501198e+00 -3.56360566e-01  1.44514709e+00\n",
            "   7.90590793e-01]\n",
            " [ 7.73666553e-01  1.03800476e+00 -1.28197243e+00  1.16081857e+00\n",
            "   7.90590793e-01]\n",
            " [ 7.96761077e-01  1.64384411e+00  1.26346019e+00  1.33141568e+00\n",
            "   1.71090158e+00]\n",
            " [ 8.19855601e-01  7.95669016e-01  3.37848329e-01  7.62758643e-01\n",
            "   1.05353673e+00]\n",
            " [ 8.42950125e-01  6.74501145e-01 -8.19166497e-01  8.76490051e-01\n",
            "   9.22063763e-01]\n",
            " [ 8.66044649e-01  1.15917263e+00 -1.24957601e-01  9.90221459e-01\n",
            "   1.18500970e+00]\n",
            " [ 8.89139173e-01 -1.73673948e-01 -1.28197243e+00  7.05892939e-01\n",
            "   1.05353673e+00]\n",
            " [ 9.12233697e-01 -5.25060772e-02 -5.87763531e-01  7.62758643e-01\n",
            "   1.57942861e+00]\n",
            " [ 9.35328221e-01  6.74501145e-01  3.37848329e-01  8.76490051e-01\n",
            "   1.44795564e+00]\n",
            " [ 9.58422745e-01  7.95669016e-01 -1.24957601e-01  9.90221459e-01\n",
            "   7.90590793e-01]\n",
            " [ 9.81517269e-01  2.24968346e+00  1.72626612e+00  1.67260991e+00\n",
            "   1.31648267e+00]\n",
            " [ 1.00461179e+00  2.24968346e+00 -1.05056946e+00  1.78634131e+00\n",
            "   1.44795564e+00]\n",
            " [ 1.02770632e+00  1.89829664e-01 -1.97618132e+00  7.05892939e-01\n",
            "   3.96171883e-01]\n",
            " [ 1.05080084e+00  1.28034050e+00  3.37848329e-01  1.10395287e+00\n",
            "   1.44795564e+00]\n",
            " [ 1.07389537e+00 -2.94841818e-01 -5.87763531e-01  6.49027235e-01\n",
            "   1.05353673e+00]\n",
            " [ 1.09698989e+00  2.24968346e+00 -5.87763531e-01  1.67260991e+00\n",
            "   1.05353673e+00]\n",
            " [ 1.12008441e+00  5.53333275e-01 -8.19166497e-01  6.49027235e-01\n",
            "   7.90590793e-01]\n",
            " [ 1.14317894e+00  1.03800476e+00  5.69251294e-01  1.10395287e+00\n",
            "   1.18500970e+00]\n",
            " [ 1.16627346e+00  1.64384411e+00  3.37848329e-01  1.27454998e+00\n",
            "   7.90590793e-01]\n",
            " [ 1.18936799e+00  4.32165405e-01 -5.87763531e-01  5.92161531e-01\n",
            "   7.90590793e-01]\n",
            " [ 1.21246251e+00  3.10997534e-01 -1.24957601e-01  6.49027235e-01\n",
            "   7.90590793e-01]\n",
            " [ 1.23555703e+00  6.74501145e-01 -5.87763531e-01  1.04708716e+00\n",
            "   1.18500970e+00]\n",
            " [ 1.25865156e+00  1.64384411e+00 -1.24957601e-01  1.16081857e+00\n",
            "   5.27644853e-01]\n",
            " [ 1.28174608e+00  1.88617985e+00 -5.87763531e-01  1.33141568e+00\n",
            "   9.22063763e-01]\n",
            " [ 1.30484061e+00  2.49201920e+00  1.72626612e+00  1.50201279e+00\n",
            "   1.05353673e+00]\n",
            " [ 1.32793513e+00  6.74501145e-01 -5.87763531e-01  1.04708716e+00\n",
            "   1.31648267e+00]\n",
            " [ 1.35102965e+00  5.53333275e-01 -5.87763531e-01  7.62758643e-01\n",
            "   3.96171883e-01]\n",
            " [ 1.37412418e+00  3.10997534e-01 -1.05056946e+00  1.04708716e+00\n",
            "   2.64698913e-01]\n",
            " [ 1.39721870e+00  2.24968346e+00 -1.24957601e-01  1.33141568e+00\n",
            "   1.44795564e+00]\n",
            " [ 1.42031323e+00  5.53333275e-01  8.00654259e-01  1.04708716e+00\n",
            "   1.57942861e+00]\n",
            " [ 1.44340775e+00  6.74501145e-01  1.06445364e-01  9.90221459e-01\n",
            "   7.90590793e-01]\n",
            " [ 1.46650227e+00  1.89829664e-01 -1.24957601e-01  5.92161531e-01\n",
            "   7.90590793e-01]\n",
            " [ 1.48959680e+00  1.28034050e+00  1.06445364e-01  9.33355755e-01\n",
            "   1.18500970e+00]\n",
            " [ 1.51269132e+00  1.03800476e+00  1.06445364e-01  1.04708716e+00\n",
            "   1.57942861e+00]\n",
            " [ 1.53578584e+00  1.28034050e+00  1.06445364e-01  7.62758643e-01\n",
            "   1.44795564e+00]\n",
            " [ 1.55888037e+00 -5.25060772e-02 -8.19166497e-01  7.62758643e-01\n",
            "   9.22063763e-01]\n",
            " [ 1.58197489e+00  1.15917263e+00  3.37848329e-01  1.21768427e+00\n",
            "   1.44795564e+00]\n",
            " [ 1.60506942e+00  1.03800476e+00  5.69251294e-01  1.10395287e+00\n",
            "   1.71090158e+00]\n",
            " [ 1.62816394e+00  1.03800476e+00 -1.24957601e-01  8.19624347e-01\n",
            "   1.44795564e+00]\n",
            " [ 1.65125846e+00  5.53333275e-01 -1.28197243e+00  7.05892939e-01\n",
            "   9.22063763e-01]\n",
            " [ 1.67435299e+00  7.95669016e-01 -1.24957601e-01  8.19624347e-01\n",
            "   1.05353673e+00]\n",
            " [ 1.69744751e+00  4.32165405e-01  8.00654259e-01  9.33355755e-01\n",
            "   1.44795564e+00]\n",
            " [ 1.72054204e+00  6.86617933e-02 -1.24957601e-01  7.62758643e-01\n",
            "   7.90590793e-01]]\n"
          ]
        },
        {
          "output_type": "execute_result",
          "data": {
            "text/html": [
              "\n",
              "  <div id=\"df-8a65765e-630a-45e9-81f4-b0758540bd25\">\n",
              "    <div class=\"colab-df-container\">\n",
              "      <div>\n",
              "<style scoped>\n",
              "    .dataframe tbody tr th:only-of-type {\n",
              "        vertical-align: middle;\n",
              "    }\n",
              "\n",
              "    .dataframe tbody tr th {\n",
              "        vertical-align: top;\n",
              "    }\n",
              "\n",
              "    .dataframe thead th {\n",
              "        text-align: right;\n",
              "    }\n",
              "</style>\n",
              "<table border=\"1\" class=\"dataframe\">\n",
              "  <thead>\n",
              "    <tr style=\"text-align: right;\">\n",
              "      <th></th>\n",
              "      <th>0</th>\n",
              "      <th>1</th>\n",
              "      <th>2</th>\n",
              "      <th>3</th>\n",
              "      <th>4</th>\n",
              "    </tr>\n",
              "  </thead>\n",
              "  <tbody>\n",
              "    <tr>\n",
              "      <th>count</th>\n",
              "      <td>1.500000e+02</td>\n",
              "      <td>1.500000e+02</td>\n",
              "      <td>1.500000e+02</td>\n",
              "      <td>1.500000e+02</td>\n",
              "      <td>1.500000e+02</td>\n",
              "    </tr>\n",
              "    <tr>\n",
              "      <th>mean</th>\n",
              "      <td>3.996803e-17</td>\n",
              "      <td>-2.775558e-16</td>\n",
              "      <td>-5.140333e-16</td>\n",
              "      <td>1.154632e-16</td>\n",
              "      <td>9.251859e-16</td>\n",
              "    </tr>\n",
              "    <tr>\n",
              "      <th>std</th>\n",
              "      <td>1.003350e+00</td>\n",
              "      <td>1.003350e+00</td>\n",
              "      <td>1.003350e+00</td>\n",
              "      <td>1.003350e+00</td>\n",
              "      <td>1.003350e+00</td>\n",
              "    </tr>\n",
              "    <tr>\n",
              "      <th>min</th>\n",
              "      <td>-1.720542e+00</td>\n",
              "      <td>-1.870024e+00</td>\n",
              "      <td>-2.438987e+00</td>\n",
              "      <td>-1.568735e+00</td>\n",
              "      <td>-1.444450e+00</td>\n",
              "    </tr>\n",
              "    <tr>\n",
              "      <th>25%</th>\n",
              "      <td>-8.602710e-01</td>\n",
              "      <td>-9.006812e-01</td>\n",
              "      <td>-5.877635e-01</td>\n",
              "      <td>-1.227541e+00</td>\n",
              "      <td>-1.181504e+00</td>\n",
              "    </tr>\n",
              "    <tr>\n",
              "      <th>50%</th>\n",
              "      <td>0.000000e+00</td>\n",
              "      <td>-5.250608e-02</td>\n",
              "      <td>-1.249576e-01</td>\n",
              "      <td>3.362659e-01</td>\n",
              "      <td>1.332259e-01</td>\n",
              "    </tr>\n",
              "    <tr>\n",
              "      <th>75%</th>\n",
              "      <td>8.602710e-01</td>\n",
              "      <td>6.745011e-01</td>\n",
              "      <td>5.692513e-01</td>\n",
              "      <td>7.627586e-01</td>\n",
              "      <td>7.905908e-01</td>\n",
              "    </tr>\n",
              "    <tr>\n",
              "      <th>max</th>\n",
              "      <td>1.720542e+00</td>\n",
              "      <td>2.492019e+00</td>\n",
              "      <td>3.114684e+00</td>\n",
              "      <td>1.786341e+00</td>\n",
              "      <td>1.710902e+00</td>\n",
              "    </tr>\n",
              "  </tbody>\n",
              "</table>\n",
              "</div>\n",
              "      <button class=\"colab-df-convert\" onclick=\"convertToInteractive('df-8a65765e-630a-45e9-81f4-b0758540bd25')\"\n",
              "              title=\"Convert this dataframe to an interactive table.\"\n",
              "              style=\"display:none;\">\n",
              "        \n",
              "  <svg xmlns=\"http://www.w3.org/2000/svg\" height=\"24px\"viewBox=\"0 0 24 24\"\n",
              "       width=\"24px\">\n",
              "    <path d=\"M0 0h24v24H0V0z\" fill=\"none\"/>\n",
              "    <path d=\"M18.56 5.44l.94 2.06.94-2.06 2.06-.94-2.06-.94-.94-2.06-.94 2.06-2.06.94zm-11 1L8.5 8.5l.94-2.06 2.06-.94-2.06-.94L8.5 2.5l-.94 2.06-2.06.94zm10 10l.94 2.06.94-2.06 2.06-.94-2.06-.94-.94-2.06-.94 2.06-2.06.94z\"/><path d=\"M17.41 7.96l-1.37-1.37c-.4-.4-.92-.59-1.43-.59-.52 0-1.04.2-1.43.59L10.3 9.45l-7.72 7.72c-.78.78-.78 2.05 0 2.83L4 21.41c.39.39.9.59 1.41.59.51 0 1.02-.2 1.41-.59l7.78-7.78 2.81-2.81c.8-.78.8-2.07 0-2.86zM5.41 20L4 18.59l7.72-7.72 1.47 1.35L5.41 20z\"/>\n",
              "  </svg>\n",
              "      </button>\n",
              "      \n",
              "  <style>\n",
              "    .colab-df-container {\n",
              "      display:flex;\n",
              "      flex-wrap:wrap;\n",
              "      gap: 12px;\n",
              "    }\n",
              "\n",
              "    .colab-df-convert {\n",
              "      background-color: #E8F0FE;\n",
              "      border: none;\n",
              "      border-radius: 50%;\n",
              "      cursor: pointer;\n",
              "      display: none;\n",
              "      fill: #1967D2;\n",
              "      height: 32px;\n",
              "      padding: 0 0 0 0;\n",
              "      width: 32px;\n",
              "    }\n",
              "\n",
              "    .colab-df-convert:hover {\n",
              "      background-color: #E2EBFA;\n",
              "      box-shadow: 0px 1px 2px rgba(60, 64, 67, 0.3), 0px 1px 3px 1px rgba(60, 64, 67, 0.15);\n",
              "      fill: #174EA6;\n",
              "    }\n",
              "\n",
              "    [theme=dark] .colab-df-convert {\n",
              "      background-color: #3B4455;\n",
              "      fill: #D2E3FC;\n",
              "    }\n",
              "\n",
              "    [theme=dark] .colab-df-convert:hover {\n",
              "      background-color: #434B5C;\n",
              "      box-shadow: 0px 1px 3px 1px rgba(0, 0, 0, 0.15);\n",
              "      filter: drop-shadow(0px 1px 2px rgba(0, 0, 0, 0.3));\n",
              "      fill: #FFFFFF;\n",
              "    }\n",
              "  </style>\n",
              "\n",
              "      <script>\n",
              "        const buttonEl =\n",
              "          document.querySelector('#df-8a65765e-630a-45e9-81f4-b0758540bd25 button.colab-df-convert');\n",
              "        buttonEl.style.display =\n",
              "          google.colab.kernel.accessAllowed ? 'block' : 'none';\n",
              "\n",
              "        async function convertToInteractive(key) {\n",
              "          const element = document.querySelector('#df-8a65765e-630a-45e9-81f4-b0758540bd25');\n",
              "          const dataTable =\n",
              "            await google.colab.kernel.invokeFunction('convertToInteractive',\n",
              "                                                     [key], {});\n",
              "          if (!dataTable) return;\n",
              "\n",
              "          const docLinkHtml = 'Like what you see? Visit the ' +\n",
              "            '<a target=\"_blank\" href=https://colab.research.google.com/notebooks/data_table.ipynb>data table notebook</a>'\n",
              "            + ' to learn more about interactive tables.';\n",
              "          element.innerHTML = '';\n",
              "          dataTable['output_type'] = 'display_data';\n",
              "          await google.colab.output.renderOutput(dataTable, element);\n",
              "          const docLink = document.createElement('div');\n",
              "          docLink.innerHTML = docLinkHtml;\n",
              "          element.appendChild(docLink);\n",
              "        }\n",
              "      </script>\n",
              "    </div>\n",
              "  </div>\n",
              "  "
            ],
            "text/plain": [
              "                  0             1             2             3             4\n",
              "count  1.500000e+02  1.500000e+02  1.500000e+02  1.500000e+02  1.500000e+02\n",
              "mean   3.996803e-17 -2.775558e-16 -5.140333e-16  1.154632e-16  9.251859e-16\n",
              "std    1.003350e+00  1.003350e+00  1.003350e+00  1.003350e+00  1.003350e+00\n",
              "min   -1.720542e+00 -1.870024e+00 -2.438987e+00 -1.568735e+00 -1.444450e+00\n",
              "25%   -8.602710e-01 -9.006812e-01 -5.877635e-01 -1.227541e+00 -1.181504e+00\n",
              "50%    0.000000e+00 -5.250608e-02 -1.249576e-01  3.362659e-01  1.332259e-01\n",
              "75%    8.602710e-01  6.745011e-01  5.692513e-01  7.627586e-01  7.905908e-01\n",
              "max    1.720542e+00  2.492019e+00  3.114684e+00  1.786341e+00  1.710902e+00"
            ]
          },
          "metadata": {},
          "execution_count": 60
        }
      ]
    },
    {
      "cell_type": "code",
      "source": [
        "#Scaled Data\n",
        "Scaled_Data = pd.DataFrame(Scaled_Data, columns = Data.columns)"
      ],
      "metadata": {
        "id": "_kkl2VKvN0UY"
      },
      "execution_count": 61,
      "outputs": []
    },
    {
      "cell_type": "markdown",
      "source": [
        "**Plotting Elbow Curve:**\n",
        "\n",
        "Plotting a graph, often known as an elbow curve, with the x-axis representing the number of clusters and the y-axis representing an assessment metric is one option.\n",
        "\n",
        "Let's look at how the elbow curve may be used in Python to identify the optimal number of clusters.\n",
        "\n",
        "We'll fit numerous k-means models first, then increase the number of clusters in each model after that. We'll save each model's inertia value and then plot it to see the outcome\n",
        "\n"
      ],
      "metadata": {
        "id": "l_4ks_cCnI9L"
      }
    },
    {
      "cell_type": "code",
      "source": [
        "# fitting multiple k-means algorithms and storing the values in an empty list\n",
        "SSE = []\n",
        "for cluster in range(1,20):\n",
        "    kmeans = KMeans(n_clusters = cluster, init='k-means++')\n",
        "    kmeans.fit(Scaled_Data)\n",
        "    SSE.append(kmeans.inertia_)\n",
        "\n",
        "# converting the results into a dataframe and plotting them\n",
        "frame = pd.DataFrame({'Cluster':range(1,20), 'SSE':SSE})\n",
        "plt.figure(figsize=(12,6))\n",
        "plt.plot(frame['Cluster'], frame['SSE'], marker='o')\n",
        "plt.xlabel('Number of clusters')\n",
        "plt.ylabel('Inertia')"
      ],
      "metadata": {
        "colab": {
          "base_uri": "https://localhost:8080/",
          "height": 406
        },
        "id": "5H1RtHnlN4Gb",
        "outputId": "20a2eb39-9300-4ee6-d22b-d4bf5e4943bd"
      },
      "execution_count": 62,
      "outputs": [
        {
          "output_type": "execute_result",
          "data": {
            "text/plain": [
              "Text(0, 0.5, 'Inertia')"
            ]
          },
          "metadata": {},
          "execution_count": 62
        },
        {
          "output_type": "display_data",
          "data": {
            "image/png": "[encoded data removed]",
            "text/plain": [
              "<Figure size 864x432 with 1 Axes>"
            ]
          },
          "metadata": {
            "needs_background": "light"
          }
        }
      ]
    },
    {
      "cell_type": "markdown",
      "source": [
        "k means using 2 clusters and k-means++ initialization"
      ],
      "metadata": {
        "id": "z9Pwzv1An5u0"
      }
    },
    {
      "cell_type": "code",
      "source": [
        "# k means using 2 clusters and k-means++ initialization\n",
        "kmeans = KMeans(n_clusters = 2, init='k-means++')\n",
        "kmeans.fit(Scaled_Data)\n",
        "pred = kmeans.predict(Scaled_Data)\n",
        "Frame = pd.DataFrame(Scaled_Data)\n",
        "Frame['cluster'] = pred\n",
        "Frame['cluster'].value_counts()"
      ],
      "metadata": {
        "colab": {
          "base_uri": "https://localhost:8080/"
        },
        "id": "sX0li7aSN-G-",
        "outputId": "f4753d1a-965d-4e10-fb6c-1fe85f75f915"
      },
      "execution_count": 63,
      "outputs": [
        {
          "output_type": "execute_result",
          "data": {
            "text/plain": [
              "0    100\n",
              "1     50\n",
              "Name: cluster, dtype: int64"
            ]
          },
          "metadata": {},
          "execution_count": 63
        }
      ]
    },
    {
      "cell_type": "code",
      "source": [
        "kmeans.inertia_"
      ],
      "metadata": {
        "colab": {
          "base_uri": "https://localhost:8080/"
        },
        "id": "RjrDVgKH_Bg0",
        "outputId": "70f2c1c5-a36d-48b9-9a7c-a67818a2b5c2"
      },
      "execution_count": 64,
      "outputs": [
        {
          "output_type": "execute_result",
          "data": {
            "text/plain": [
              "273.7275610947794"
            ]
          },
          "metadata": {},
          "execution_count": 64
        }
      ]
    },
    {
      "cell_type": "markdown",
      "source": [
        "Visualising the clusters of size 2"
      ],
      "metadata": {
        "id": "frvdDyuloBTK"
      }
    },
    {
      "cell_type": "code",
      "source": [
        "#Visualising the clusters of size 2\n",
        "from sklearn.cluster import KMeans\n",
        "import seaborn as sns\n",
        "import warnings\n",
        "warnings.filterwarnings(\"ignore\")\n",
        "df1 = Frame[Frame.cluster==0]\n",
        "df2 = Frame[Frame.cluster==1]\n",
        "plt.figure(figsize=(15,7))\n",
        "sns.scatterplot(df1['SepalLengthCm'], df1['PetalLengthCm'], color = 'yellow',label = 'Cluster 1',s=50)\n",
        "sns.scatterplot(df2['SepalLengthCm'], df2['PetalLengthCm'], color = 'blue', label = 'Cluster 2',s=50)\n",
        "plt.grid(False)\n",
        "plt.title('2 Clusters')\n",
        "plt.xlabel('Sepal Dimensions')\n",
        "plt.ylabel('Petal Dimensions')\n",
        "plt.legend()\n",
        "plt.show()"
      ],
      "metadata": {
        "colab": {
          "base_uri": "https://localhost:8080/",
          "height": 458
        },
        "id": "LEG1FEnAOgX0",
        "outputId": "58191452-c954-48a2-cddd-f6e5c80757d8"
      },
      "execution_count": 65,
      "outputs": [
        {
          "output_type": "display_data",
          "data": {
            "image/png": "[encoded data removed]",
            "text/plain": [
              "<Figure size 1080x504 with 1 Axes>"
            ]
          },
          "metadata": {
            "needs_background": "light"
          }
        }
      ]
    },
    {
      "cell_type": "markdown",
      "source": [
        "k means using 3 clusters and k-means++ initialization"
      ],
      "metadata": {
        "id": "Rol3_PVkoEnp"
      }
    },
    {
      "cell_type": "code",
      "source": [
        "# k means using 3 clusters and k-means++ initialization\n",
        "kmeans = KMeans(n_clusters = 3, init='k-means++')\n",
        "kmeans.fit(Scaled_Data)\n",
        "pred = kmeans.predict(Scaled_Data)\n",
        "Frame = pd.DataFrame(Scaled_Data)\n",
        "Frame['cluster'] = pred\n",
        "Frame['cluster'].value_counts()"
      ],
      "metadata": {
        "colab": {
          "base_uri": "https://localhost:8080/"
        },
        "id": "cpC5Jn4APXpL",
        "outputId": "6f66d966-db99-42e2-913a-9a9b76a64997"
      },
      "execution_count": 66,
      "outputs": [
        {
          "output_type": "execute_result",
          "data": {
            "text/plain": [
              "2    53\n",
              "1    50\n",
              "0    47\n",
              "Name: cluster, dtype: int64"
            ]
          },
          "metadata": {},
          "execution_count": 66
        }
      ]
    },
    {
      "cell_type": "code",
      "source": [
        "kmeans.inertia_"
      ],
      "metadata": {
        "colab": {
          "base_uri": "https://localhost:8080/"
        },
        "id": "A6duIEI4_WRq",
        "outputId": "6bd43693-f840-4d95-9fa2-5bac64f8374d"
      },
      "execution_count": 67,
      "outputs": [
        {
          "output_type": "execute_result",
          "data": {
            "text/plain": [
              "177.05608895062966"
            ]
          },
          "metadata": {},
          "execution_count": 67
        }
      ]
    },
    {
      "cell_type": "markdown",
      "source": [
        "Visualising the clusters of size 3"
      ],
      "metadata": {
        "id": "9e3RWAH6oIgm"
      }
    },
    {
      "cell_type": "code",
      "source": [
        "# Visualising the clusters of size 3\n",
        "df1 = Frame[Frame.cluster==0]\n",
        "df2 = Frame[Frame.cluster==1]\n",
        "df3 = Frame[Frame.cluster==2]\n",
        "plt.figure(figsize=(15,7))\n",
        "sns.scatterplot(df1['SepalLengthCm'], df1['PetalLengthCm'], color = 'yellow',label = 'Cluster 1',s=50)\n",
        "sns.scatterplot(df2['SepalLengthCm'], df2['PetalLengthCm'], color = 'blue', label = 'Cluster 2',s=50)\n",
        "sns.scatterplot(df3['SepalLengthCm'], df3['PetalLengthCm'], color = 'red', label = 'Cluster 2',s=50)\n",
        "plt.grid(False)\n",
        "plt.title('3 Clusters')\n",
        "plt.xlabel('Sepal Dimensions')\n",
        "plt.ylabel('Petal Dimensions')\n",
        "plt.legend()\n",
        "plt.show()"
      ],
      "metadata": {
        "colab": {
          "base_uri": "https://localhost:8080/",
          "height": 458
        },
        "id": "J65R2oqZPmiA",
        "outputId": "dd5b067a-7502-4fc8-fb89-669398d8306d"
      },
      "execution_count": 68,
      "outputs": [
        {
          "output_type": "display_data",
          "data": {
            "image/png": "[encoded data removed]",
            "text/plain": [
              "<Figure size 1080x504 with 1 Axes>"
            ]
          },
          "metadata": {
            "needs_background": "light"
          }
        }
      ]
    },
    {
      "cell_type": "markdown",
      "source": [
        "k means using 4 clusters and k-means++ initialization"
      ],
      "metadata": {
        "id": "ej2wBBcUoNkt"
      }
    },
    {
      "cell_type": "code",
      "source": [
        "# k means using 4 clusters and k-means++ initialization\n",
        "kmeans = KMeans(n_clusters = 4, init='k-means++')\n",
        "kmeans.fit(Scaled_Data)\n",
        "pred = kmeans.predict(Scaled_Data)\n",
        "Frame = pd.DataFrame(Scaled_Data)\n",
        "Frame['cluster'] = pred\n",
        "Frame['cluster'].value_counts()"
      ],
      "metadata": {
        "colab": {
          "base_uri": "https://localhost:8080/"
        },
        "id": "jr-63y26QbO-",
        "outputId": "bf263db2-02fc-4197-ac82-f6584040895a"
      },
      "execution_count": 69,
      "outputs": [
        {
          "output_type": "execute_result",
          "data": {
            "text/plain": [
              "1    53\n",
              "0    47\n",
              "2    27\n",
              "3    23\n",
              "Name: cluster, dtype: int64"
            ]
          },
          "metadata": {},
          "execution_count": 69
        }
      ]
    },
    {
      "cell_type": "code",
      "source": [
        "kmeans.inertia_"
      ],
      "metadata": {
        "colab": {
          "base_uri": "https://localhost:8080/"
        },
        "id": "a88De37g_aWT",
        "outputId": "138308f4-b8e4-4acf-ad46-60fab8f4af37"
      },
      "execution_count": 70,
      "outputs": [
        {
          "output_type": "execute_result",
          "data": {
            "text/plain": [
              "150.5174070304911"
            ]
          },
          "metadata": {},
          "execution_count": 70
        }
      ]
    },
    {
      "cell_type": "markdown",
      "source": [
        "Visualising the clusters of size 4"
      ],
      "metadata": {
        "id": "OFG7n-mIoPjx"
      }
    },
    {
      "cell_type": "code",
      "source": [
        "# Visualising the clusters of size 4\n",
        "df1 = Frame[Frame.cluster==0]\n",
        "df2 = Frame[Frame.cluster==1]\n",
        "df3 = Frame[Frame.cluster==2]\n",
        "df4 = Frame[Frame.cluster==3]\n",
        "plt.figure(figsize=(15,7))\n",
        "sns.scatterplot(df1['SepalLengthCm'], df1['PetalLengthCm'], color = 'yellow',label = 'Cluster 1',s=50)\n",
        "sns.scatterplot(df2['SepalLengthCm'], df2['PetalLengthCm'], color = 'blue', label = 'Cluster 2',s=50)\n",
        "sns.scatterplot(df3['SepalLengthCm'], df3['PetalLengthCm'], color = 'red', label = 'Cluster 3',s=50)\n",
        "sns.scatterplot(df4['SepalLengthCm'], df4['PetalLengthCm'], color = 'black', label = 'Cluster 4',s=50)\n",
        "plt.grid(False)\n",
        "plt.title('4 Clusters')\n",
        "plt.xlabel('Sepal Dimensions')\n",
        "plt.ylabel('Petal Dimensions')\n",
        "plt.legend()\n",
        "plt.show()"
      ],
      "metadata": {
        "colab": {
          "base_uri": "https://localhost:8080/",
          "height": 458
        },
        "id": "ofS6AhNLQgGK",
        "outputId": "6238b1a7-bc5b-42ac-ffe1-66e4883e687d"
      },
      "execution_count": 71,
      "outputs": [
        {
          "output_type": "display_data",
          "data": {
            "image/png": "[encoded data removed]",
            "text/plain": [
              "<Figure size 1080x504 with 1 Axes>"
            ]
          },
          "metadata": {
            "needs_background": "light"
          }
        }
      ]
    },
    {
      "cell_type": "markdown",
      "source": [
        "k means using 5 clusters and k-means++ initialization"
      ],
      "metadata": {
        "id": "Xm1WhcjooVwV"
      }
    },
    {
      "cell_type": "code",
      "source": [
        "# k means using 5 clusters and k-means++ initialization\n",
        "kmeans = KMeans(n_clusters = 5, init='k-means++')\n",
        "kmeans.fit(Scaled_Data)\n",
        "pred = kmeans.predict(Scaled_Data)\n",
        "Frame = pd.DataFrame(Scaled_Data)\n",
        "Frame['cluster'] = pred\n",
        "Frame['cluster'].value_counts()"
      ],
      "metadata": {
        "colab": {
          "base_uri": "https://localhost:8080/"
        },
        "id": "3oVtMgUKQ7sE",
        "outputId": "94b629f0-d632-4c4f-f68c-4c351c6af757"
      },
      "execution_count": 72,
      "outputs": [
        {
          "output_type": "execute_result",
          "data": {
            "text/plain": [
              "1    47\n",
              "4    30\n",
              "0    27\n",
              "3    23\n",
              "2    23\n",
              "Name: cluster, dtype: int64"
            ]
          },
          "metadata": {},
          "execution_count": 72
        }
      ]
    },
    {
      "cell_type": "code",
      "source": [
        "kmeans.inertia_"
      ],
      "metadata": {
        "colab": {
          "base_uri": "https://localhost:8080/"
        },
        "id": "Vxa61HfR_eE4",
        "outputId": "d5543e6f-6f28-4b3f-f69b-9d789513df01"
      },
      "execution_count": 73,
      "outputs": [
        {
          "output_type": "execute_result",
          "data": {
            "text/plain": [
              "125.05764993797288"
            ]
          },
          "metadata": {},
          "execution_count": 73
        }
      ]
    },
    {
      "cell_type": "markdown",
      "source": [
        "Visualising the clusters of size 5"
      ],
      "metadata": {
        "id": "bUurSOOOoYmr"
      }
    },
    {
      "cell_type": "code",
      "source": [
        "# Visualising the clusters of size 5\n",
        "df1 = Frame[Frame.cluster==0]\n",
        "df2 = Frame[Frame.cluster==1]\n",
        "df3 = Frame[Frame.cluster==2]\n",
        "df4 = Frame[Frame.cluster==3]\n",
        "df5 = Frame[Frame.cluster==4]\n",
        "plt.figure(figsize=(15,7))\n",
        "sns.scatterplot(df1['SepalLengthCm'], df1['PetalLengthCm'], color = 'yellow',label = 'Cluster 1',s=50)\n",
        "sns.scatterplot(df2['SepalLengthCm'], df2['PetalLengthCm'], color = 'blue', label = 'Cluster 2',s=50)\n",
        "sns.scatterplot(df3['SepalLengthCm'], df3['PetalLengthCm'], color = 'red', label = 'Cluster 3',s=50)\n",
        "sns.scatterplot(df4['SepalLengthCm'], df4['PetalLengthCm'], color = 'black', label = 'Cluster 4',s=50)\n",
        "sns.scatterplot(df5['SepalLengthCm'], df5['PetalLengthCm'], color = 'green', label = 'Cluster 5',s=50)\n",
        "plt.grid(False)\n",
        "plt.title('5 Clusters')\n",
        "plt.xlabel('Sepal Dimensions')\n",
        "plt.ylabel('Petal Dimensions')\n",
        "plt.legend()\n",
        "plt.show()"
      ],
      "metadata": {
        "colab": {
          "base_uri": "https://localhost:8080/",
          "height": 458
        },
        "id": "p85gylXlRCiw",
        "outputId": "f74c628f-647d-4d86-afcd-d887d53c5a83"
      },
      "execution_count": 74,
      "outputs": [
        {
          "output_type": "display_data",
          "data": {
            "image/png": "[encoded data removed]",
            "text/plain": [
              "<Figure size 1080x504 with 1 Axes>"
            ]
          },
          "metadata": {
            "needs_background": "light"
          }
        }
      ]
    }
  ]
}